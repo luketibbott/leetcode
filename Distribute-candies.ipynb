{
 "cells": [
  {
   "cell_type": "markdown",
   "metadata": {},
   "source": [
    "Given an integer array with even length, where different numbers in this array represent different kinds of candies. Each number means one candy of the corresponding kind. You need to distribute these candies equally in number to brother and sister. Return the maximum number of kinds of candies the sister could gain."
   ]
  },
  {
   "cell_type": "code",
   "execution_count": 13,
   "metadata": {},
   "outputs": [],
   "source": [
    "from collections import Counter"
   ]
  },
  {
   "cell_type": "code",
   "execution_count": 8,
   "metadata": {},
   "outputs": [],
   "source": [
    "def distribute_candies(candies):\n",
    "    num_candies = Counter(candies)\n",
    "    unique_candies = len(set(candies))\n",
    "    num_sister = 0\n",
    "    \n",
    "    for type in num_candies.values():\n",
    "        if num_candies[num]%2 == 0:\n",
    "            unique_candies -= 2\n",
    "            num_sister += 2"
   ]
  },
  {
   "cell_type": "code",
   "execution_count": 11,
   "metadata": {},
   "outputs": [
    {
     "data": {
      "text/plain": [
       "2"
      ]
     },
     "execution_count": 11,
     "metadata": {},
     "output_type": "execute_result"
    }
   ],
   "source": [
    "distribute_candies([1,1,2,3,4,5])"
   ]
  },
  {
   "cell_type": "markdown",
   "metadata": {},
   "source": [
    "Probability of success in game 1:\n",
    "\n",
    "$$p$$\n",
    "\n",
    "Probability of success in game 2:\n",
    "\n",
    "$${3\\choose2}p^2(1-p)$$"
   ]
  },
  {
   "cell_type": "code",
   "execution_count": 22,
   "metadata": {},
   "outputs": [
    {
     "data": {
      "text/plain": [
       "10"
      ]
     },
     "execution_count": 22,
     "metadata": {},
     "output_type": "execute_result"
    }
   ],
   "source": [
    "lockers = [1 for i in range(100)]\n",
    "\n",
    "for n in range(len(lockers)):\n",
    "    for i in range(2, 100):\n",
    "        if n%i == 0:\n",
    "            if lockers[n] == 0:\n",
    "                lockers[n] = 1\n",
    "            else:\n",
    "                lockers[n] = 0\n",
    "                \n",
    "sum_ = 0\n",
    "\n",
    "for l in lockers:\n",
    "    sum_ += l\n",
    "    \n",
    "sum_"
   ]
  },
  {
   "cell_type": "code",
   "execution_count": null,
   "metadata": {},
   "outputs": [],
   "source": []
  }
 ],
 "metadata": {
  "kernelspec": {
   "display_name": "Python 3",
   "language": "python",
   "name": "python3"
  },
  "language_info": {
   "codemirror_mode": {
    "name": "ipython",
    "version": 3
   },
   "file_extension": ".py",
   "mimetype": "text/x-python",
   "name": "python",
   "nbconvert_exporter": "python",
   "pygments_lexer": "ipython3",
   "version": "3.6.5"
  }
 },
 "nbformat": 4,
 "nbformat_minor": 2
}
